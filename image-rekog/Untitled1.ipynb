{
  "nbformat": 4,
  "nbformat_minor": 0,
  "metadata": {
    "colab": {
      "provenance": []
    },
    "kernelspec": {
      "name": "python3",
      "display_name": "Python 3"
    },
    "language_info": {
      "name": "python"
    }
  },
  "cells": [
    {
      "cell_type": "code",
      "source": [
        "from google.colab import drive"
      ],
      "metadata": {
        "id": "W1i5RmeBNz2S"
      },
      "execution_count": 2,
      "outputs": []
    },
    {
      "cell_type": "code",
      "source": [
        "drive.mount('/content/drive')"
      ],
      "metadata": {
        "colab": {
          "base_uri": "https://localhost:8080/"
        },
        "id": "0k4Y1D_kN66A",
        "outputId": "0085bba0-f6e5-4bb8-d99d-7cf830782b7b"
      },
      "execution_count": 3,
      "outputs": [
        {
          "output_type": "stream",
          "name": "stdout",
          "text": [
            "Mounted at /content/drive\n"
          ]
        }
      ]
    },
    {
      "cell_type": "code",
      "execution_count": 1,
      "metadata": {
        "colab": {
          "base_uri": "https://localhost:8080/"
        },
        "collapsed": true,
        "id": "KrjIlrR_MzCj",
        "outputId": "59f68a87-aac6-4f28-c61e-916374797d9a"
      },
      "outputs": [
        {
          "output_type": "stream",
          "name": "stdout",
          "text": [
            "Requirement already satisfied: imgaug in /usr/local/lib/python3.10/dist-packages (0.4.0)\n",
            "Requirement already satisfied: six in /usr/local/lib/python3.10/dist-packages (from imgaug) (1.16.0)\n",
            "Requirement already satisfied: numpy>=1.15 in /usr/local/lib/python3.10/dist-packages (from imgaug) (1.26.4)\n",
            "Requirement already satisfied: scipy in /usr/local/lib/python3.10/dist-packages (from imgaug) (1.13.1)\n",
            "Requirement already satisfied: Pillow in /usr/local/lib/python3.10/dist-packages (from imgaug) (11.0.0)\n",
            "Requirement already satisfied: matplotlib in /usr/local/lib/python3.10/dist-packages (from imgaug) (3.8.0)\n",
            "Requirement already satisfied: scikit-image>=0.14.2 in /usr/local/lib/python3.10/dist-packages (from imgaug) (0.24.0)\n",
            "Requirement already satisfied: opencv-python in /usr/local/lib/python3.10/dist-packages (from imgaug) (4.10.0.84)\n",
            "Requirement already satisfied: imageio in /usr/local/lib/python3.10/dist-packages (from imgaug) (2.36.0)\n",
            "Requirement already satisfied: Shapely in /usr/local/lib/python3.10/dist-packages (from imgaug) (2.0.6)\n",
            "Requirement already satisfied: networkx>=2.8 in /usr/local/lib/python3.10/dist-packages (from scikit-image>=0.14.2->imgaug) (3.4.2)\n",
            "Requirement already satisfied: tifffile>=2022.8.12 in /usr/local/lib/python3.10/dist-packages (from scikit-image>=0.14.2->imgaug) (2024.9.20)\n",
            "Requirement already satisfied: packaging>=21 in /usr/local/lib/python3.10/dist-packages (from scikit-image>=0.14.2->imgaug) (24.2)\n",
            "Requirement already satisfied: lazy-loader>=0.4 in /usr/local/lib/python3.10/dist-packages (from scikit-image>=0.14.2->imgaug) (0.4)\n",
            "Requirement already satisfied: contourpy>=1.0.1 in /usr/local/lib/python3.10/dist-packages (from matplotlib->imgaug) (1.3.1)\n",
            "Requirement already satisfied: cycler>=0.10 in /usr/local/lib/python3.10/dist-packages (from matplotlib->imgaug) (0.12.1)\n",
            "Requirement already satisfied: fonttools>=4.22.0 in /usr/local/lib/python3.10/dist-packages (from matplotlib->imgaug) (4.55.0)\n",
            "Requirement already satisfied: kiwisolver>=1.0.1 in /usr/local/lib/python3.10/dist-packages (from matplotlib->imgaug) (1.4.7)\n",
            "Requirement already satisfied: pyparsing>=2.3.1 in /usr/local/lib/python3.10/dist-packages (from matplotlib->imgaug) (3.2.0)\n",
            "Requirement already satisfied: python-dateutil>=2.7 in /usr/local/lib/python3.10/dist-packages (from matplotlib->imgaug) (2.8.2)\n",
            "Collecting ipyplot\n",
            "  Downloading ipyplot-1.1.2-py3-none-any.whl.metadata (7.2 kB)\n",
            "Requirement already satisfied: IPython in /usr/local/lib/python3.10/dist-packages (from ipyplot) (7.34.0)\n",
            "Requirement already satisfied: numpy in /usr/local/lib/python3.10/dist-packages (from ipyplot) (1.26.4)\n",
            "Requirement already satisfied: pillow in /usr/local/lib/python3.10/dist-packages (from ipyplot) (11.0.0)\n",
            "Collecting shortuuid (from ipyplot)\n",
            "  Downloading shortuuid-1.0.13-py3-none-any.whl.metadata (5.8 kB)\n",
            "Requirement already satisfied: setuptools>=18.5 in /usr/local/lib/python3.10/dist-packages (from IPython->ipyplot) (75.1.0)\n",
            "Collecting jedi>=0.16 (from IPython->ipyplot)\n",
            "  Downloading jedi-0.19.2-py2.py3-none-any.whl.metadata (22 kB)\n",
            "Requirement already satisfied: decorator in /usr/local/lib/python3.10/dist-packages (from IPython->ipyplot) (4.4.2)\n",
            "Requirement already satisfied: pickleshare in /usr/local/lib/python3.10/dist-packages (from IPython->ipyplot) (0.7.5)\n",
            "Requirement already satisfied: traitlets>=4.2 in /usr/local/lib/python3.10/dist-packages (from IPython->ipyplot) (5.7.1)\n",
            "Requirement already satisfied: prompt-toolkit!=3.0.0,!=3.0.1,<3.1.0,>=2.0.0 in /usr/local/lib/python3.10/dist-packages (from IPython->ipyplot) (3.0.48)\n",
            "Requirement already satisfied: pygments in /usr/local/lib/python3.10/dist-packages (from IPython->ipyplot) (2.18.0)\n",
            "Requirement already satisfied: backcall in /usr/local/lib/python3.10/dist-packages (from IPython->ipyplot) (0.2.0)\n",
            "Requirement already satisfied: matplotlib-inline in /usr/local/lib/python3.10/dist-packages (from IPython->ipyplot) (0.1.7)\n",
            "Requirement already satisfied: pexpect>4.3 in /usr/local/lib/python3.10/dist-packages (from IPython->ipyplot) (4.9.0)\n",
            "Requirement already satisfied: parso<0.9.0,>=0.8.4 in /usr/local/lib/python3.10/dist-packages (from jedi>=0.16->IPython->ipyplot) (0.8.4)\n",
            "Requirement already satisfied: ptyprocess>=0.5 in /usr/local/lib/python3.10/dist-packages (from pexpect>4.3->IPython->ipyplot) (0.7.0)\n",
            "Requirement already satisfied: wcwidth in /usr/local/lib/python3.10/dist-packages (from prompt-toolkit!=3.0.0,!=3.0.1,<3.1.0,>=2.0.0->IPython->ipyplot) (0.2.13)\n",
            "Downloading ipyplot-1.1.2-py3-none-any.whl (13 kB)\n",
            "Downloading shortuuid-1.0.13-py3-none-any.whl (10 kB)\n",
            "Downloading jedi-0.19.2-py2.py3-none-any.whl (1.6 MB)\n",
            "\u001b[2K   \u001b[90m━━━━━━━━━━━━━━━━━━━━━━━━━━━━━━━━━━━━━━━━\u001b[0m \u001b[32m1.6/1.6 MB\u001b[0m \u001b[31m24.0 MB/s\u001b[0m eta \u001b[36m0:00:00\u001b[0m\n",
            "\u001b[?25hInstalling collected packages: shortuuid, jedi, ipyplot\n",
            "Successfully installed ipyplot-1.1.2 jedi-0.19.2 shortuuid-1.0.13\n",
            "\n",
            "        WARNING! Google Colab Environment detected!\n",
            "        You might encounter issues while running in Google Colab environment.\n",
            "        If images are not displaying properly please try setting `force_b64` param to `True`.\n",
            "        \n"
          ]
        }
      ],
      "source": [
        "#Installing Image Augmentation Library\n",
        "!pip install imgaug\n",
        "#the python package named ‘IPyPlot’\n",
        "!pip install ipyplot\n",
        "\n",
        "import ipyplot\n",
        "\n",
        "# importing all the necessary packages needed to augment the data.\n",
        "import imageio\n",
        "import imgaug as ia\n",
        "import imgaug.augmenters as iaa"
      ]
    },
    {
      "cell_type": "code",
      "source": [
        "import os\n",
        "import imageio\n",
        "import cv2\n",
        "from PIL import Image\n",
        "import imgaug.augmenters as iaa\n",
        "\n",
        "# Define augmenters\n",
        "augmenters = {\n",
        "    \"hflip\": iaa.Fliplr(p=1.0),  # Horizontal flip\n",
        "    \"vflip\": iaa.Flipud(p=1.0),  # Vertical flip\n",
        "    \"rotate\": iaa.Affine(rotate=(-50, 20)),  # Rotation\n",
        "    \"crop\": iaa.Crop(percent=(0, 0.3)),  # Cropping\n",
        "    \"noise\": iaa.AdditiveGaussianNoise(10, 40),  # Add Noise\n",
        "    \"shear\": iaa.Affine(shear=(-40, 40)),  # Shearing\n",
        "    \"gamma_contrast\": iaa.GammaContrast((0.5, 2.0)),  # Gamma Contrast\n",
        "    \"sigmoid_contrast\": iaa.SigmoidContrast(gain=(5, 10), cutoff=(0.4, 0.6)),  # Sigmoid Contrast\n",
        "    \"linear_contrast\": iaa.LinearContrast((0.6, 0.4)),  # Linear Contrast\n",
        "    \"gaussian_blur\": iaa.GaussianBlur(sigma=(0.5, 3.0)),  # Gaussian Blur\n",
        "    \"motion_blur\": iaa.MotionBlur(k=10, angle=[-45, 45]),  # Motion Blur\n",
        "    \"zoom_in\": iaa.Affine(scale=(1.2, 1.5)),  # Zoom In\n",
        "    \"zoom_out\": iaa.Affine(scale=(0.5, 0.8)),  # Zoom Out\n",
        "}\n",
        "\n",
        "# Path to the folder containing images\n",
        "folder_path = '/content/drive/MyDrive/img_data'\n",
        "output_dir = '/content/Augmented_images'\n",
        "os.makedirs(output_dir, exist_ok=True)\n",
        "\n",
        "# Get all image files in the folder\n",
        "image_files = [f for f in os.listdir(folder_path) if f.lower().endswith(('png', 'jpg', 'jpeg'))]\n",
        "\n",
        "if not image_files:\n",
        "    raise ValueError(f\"No image files found in folder: {folder_path}\")\n",
        "\n",
        "# Process each image file\n",
        "for image_file in image_files:\n",
        "    image_path = os.path.join(folder_path, image_file)\n",
        "    input_img = imageio.imread(image_path)\n",
        "    print(f\"Processing: {image_file}\")\n",
        "\n",
        "    # Apply all augmenters to the current image\n",
        "    for aug_name, augmenter in augmenters.items():\n",
        "        augmented_img = augmenter.augment_image(input_img)\n",
        "        output_path = os.path.join(output_dir, f\"{os.path.splitext(image_file)[0]}_{aug_name}.jpg\")\n",
        "        Image.fromarray(augmented_img).save(output_path, format=\"JPEG\", quality=95)  # Save as JPG\n",
        "        print(f\"Saved: {output_path}\")\n",
        "\n",
        "print(f\"All augmented images saved in: {output_dir}\")"
      ],
      "metadata": {
        "colab": {
          "base_uri": "https://localhost:8080/"
        },
        "collapsed": true,
        "id": "kvl9djxuPZG3",
        "outputId": "f77a330a-973e-4966-ee75-03bcf4b0c6ae"
      },
      "execution_count": 15,
      "outputs": [
        {
          "output_type": "stream",
          "name": "stdout",
          "text": [
            "Processing: Square Cassette Air conditioner.jpg\n",
            "Saved: /content/Augmented_images/Square Cassette Air conditioner_hflip.jpg\n",
            "Saved: /content/Augmented_images/Square Cassette Air conditioner_vflip.jpg\n",
            "Saved: /content/Augmented_images/Square Cassette Air conditioner_rotate.jpg\n",
            "Saved: /content/Augmented_images/Square Cassette Air conditioner_crop.jpg\n",
            "Saved: /content/Augmented_images/Square Cassette Air conditioner_noise.jpg\n",
            "Saved: /content/Augmented_images/Square Cassette Air conditioner_shear.jpg\n",
            "Saved: /content/Augmented_images/Square Cassette Air conditioner_gamma_contrast.jpg\n",
            "Saved: /content/Augmented_images/Square Cassette Air conditioner_sigmoid_contrast.jpg\n",
            "Saved: /content/Augmented_images/Square Cassette Air conditioner_linear_contrast.jpg\n",
            "Saved: /content/Augmented_images/Square Cassette Air conditioner_gaussian_blur.jpg\n",
            "Saved: /content/Augmented_images/Square Cassette Air conditioner_motion_blur.jpg\n",
            "Saved: /content/Augmented_images/Square Cassette Air conditioner_zoom_in.jpg\n",
            "Saved: /content/Augmented_images/Square Cassette Air conditioner_zoom_out.jpg\n",
            "Processing: designerclock.jpg\n",
            "Saved: /content/Augmented_images/designerclock_hflip.jpg\n",
            "Saved: /content/Augmented_images/designerclock_vflip.jpg\n",
            "Saved: /content/Augmented_images/designerclock_rotate.jpg\n",
            "Saved: /content/Augmented_images/designerclock_crop.jpg\n",
            "Saved: /content/Augmented_images/designerclock_noise.jpg\n",
            "Saved: /content/Augmented_images/designerclock_shear.jpg\n",
            "Saved: /content/Augmented_images/designerclock_gamma_contrast.jpg\n",
            "Saved: /content/Augmented_images/designerclock_sigmoid_contrast.jpg\n",
            "Saved: /content/Augmented_images/designerclock_linear_contrast.jpg\n",
            "Saved: /content/Augmented_images/designerclock_gaussian_blur.jpg\n",
            "Saved: /content/Augmented_images/designerclock_motion_blur.jpg\n",
            "Saved: /content/Augmented_images/designerclock_zoom_in.jpg\n",
            "Saved: /content/Augmented_images/designerclock_zoom_out.jpg\n",
            "Processing: mortise lock.jpg\n",
            "Saved: /content/Augmented_images/mortise lock_hflip.jpg\n",
            "Saved: /content/Augmented_images/mortise lock_vflip.jpg\n",
            "Saved: /content/Augmented_images/mortise lock_rotate.jpg\n",
            "Saved: /content/Augmented_images/mortise lock_crop.jpg\n",
            "Saved: /content/Augmented_images/mortise lock_noise.jpg\n",
            "Saved: /content/Augmented_images/mortise lock_shear.jpg\n",
            "Saved: /content/Augmented_images/mortise lock_gamma_contrast.jpg\n",
            "Saved: /content/Augmented_images/mortise lock_sigmoid_contrast.jpg\n",
            "Saved: /content/Augmented_images/mortise lock_linear_contrast.jpg\n",
            "Saved: /content/Augmented_images/mortise lock_gaussian_blur.jpg\n",
            "Saved: /content/Augmented_images/mortise lock_motion_blur.jpg\n",
            "Saved: /content/Augmented_images/mortise lock_zoom_in.jpg\n",
            "Saved: /content/Augmented_images/mortise lock_zoom_out.jpg\n",
            "All augmented images saved in: /content/Augmented_images\n"
          ]
        },
        {
          "output_type": "stream",
          "name": "stderr",
          "text": [
            "<ipython-input-15-8447692cdbc7>:38: DeprecationWarning: Starting with ImageIO v3 the behavior of this function will switch to that of iio.v3.imread. To keep the current behavior (and make this warning disappear) use `import imageio.v2 as imageio` or call `imageio.v2.imread` directly.\n",
            "  input_img = imageio.imread(image_path)\n"
          ]
        }
      ]
    },
    {
      "cell_type": "code",
      "source": [
        "# Optionally, compress augmented images into a zip file\n",
        "from zipfile import ZipFile\n",
        "zip_file_path = '/content/Augmented_images.zip'\n",
        "\n",
        "with ZipFile(zip_file_path, 'w') as zipf:\n",
        "    for root, _, files_list in os.walk(output_dir):\n",
        "        for file in files_list:\n",
        "            zipf.write(os.path.join(root, file), arcname=file)\n",
        "\n",
        "print(f\"Compressed augmented images to: {zip_file_path}\")"
      ],
      "metadata": {
        "colab": {
          "base_uri": "https://localhost:8080/"
        },
        "id": "PpJ3sYB0OTSW",
        "outputId": "f9d1aade-4fa3-4c9a-9519-5040d71d39c9"
      },
      "execution_count": 16,
      "outputs": [
        {
          "output_type": "stream",
          "name": "stdout",
          "text": [
            "Compressed augmented images to: /content/Augmented_images.zip\n"
          ]
        }
      ]
    },
    {
      "cell_type": "code",
      "source": [
        "from google.colab import files\n",
        "files.download('/content/Augmented_images.zip')"
      ],
      "metadata": {
        "colab": {
          "base_uri": "https://localhost:8080/",
          "height": 17
        },
        "id": "DGFzgvhAXl-G",
        "outputId": "f299feb9-053c-481a-f21e-226184a2c74e"
      },
      "execution_count": 17,
      "outputs": [
        {
          "output_type": "display_data",
          "data": {
            "text/plain": [
              "<IPython.core.display.Javascript object>"
            ],
            "application/javascript": [
              "\n",
              "    async function download(id, filename, size) {\n",
              "      if (!google.colab.kernel.accessAllowed) {\n",
              "        return;\n",
              "      }\n",
              "      const div = document.createElement('div');\n",
              "      const label = document.createElement('label');\n",
              "      label.textContent = `Downloading \"${filename}\": `;\n",
              "      div.appendChild(label);\n",
              "      const progress = document.createElement('progress');\n",
              "      progress.max = size;\n",
              "      div.appendChild(progress);\n",
              "      document.body.appendChild(div);\n",
              "\n",
              "      const buffers = [];\n",
              "      let downloaded = 0;\n",
              "\n",
              "      const channel = await google.colab.kernel.comms.open(id);\n",
              "      // Send a message to notify the kernel that we're ready.\n",
              "      channel.send({})\n",
              "\n",
              "      for await (const message of channel.messages) {\n",
              "        // Send a message to notify the kernel that we're ready.\n",
              "        channel.send({})\n",
              "        if (message.buffers) {\n",
              "          for (const buffer of message.buffers) {\n",
              "            buffers.push(buffer);\n",
              "            downloaded += buffer.byteLength;\n",
              "            progress.value = downloaded;\n",
              "          }\n",
              "        }\n",
              "      }\n",
              "      const blob = new Blob(buffers, {type: 'application/binary'});\n",
              "      const a = document.createElement('a');\n",
              "      a.href = window.URL.createObjectURL(blob);\n",
              "      a.download = filename;\n",
              "      div.appendChild(a);\n",
              "      a.click();\n",
              "      div.remove();\n",
              "    }\n",
              "  "
            ]
          },
          "metadata": {}
        },
        {
          "output_type": "display_data",
          "data": {
            "text/plain": [
              "<IPython.core.display.Javascript object>"
            ],
            "application/javascript": [
              "download(\"download_d4275974-b797-477f-85d9-71df1431fb84\", \"Augmented_images.zip\", 445375)"
            ]
          },
          "metadata": {}
        }
      ]
    }
  ]
}